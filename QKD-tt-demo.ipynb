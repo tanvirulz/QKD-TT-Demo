{
 "cells": [
  {
   "cell_type": "code",
   "execution_count": 71,
   "metadata": {},
   "outputs": [],
   "source": [
    "import os\n",
    "import subprocess\n",
    "\n",
    "printlog = True\n",
    "process_time_limit = 5 # seconds\n",
    "processed_data_root = \"./TT07Aug_400k_function_gen_3\"\n",
    "\n",
    "timestamp_location = \"/home/odin/work/gProj/myforks/timestampdata/LaptopTest2TSCard_7Aug19\"\n",
    "#timestamp_location = \"./shift-coin-data\"\n",
    "\n",
    "alice_readevent_file =  timestamp_location+\"/400KHzCh1XM1_Alice_10s\"\n",
    "\n",
    "bob_readevent_file =  timestamp_location+ \"/400KHzCh1XM1_Bob_10s\"\n",
    "alice_folder = processed_data_root + \"/alice\"\n",
    "bob_folder = processed_data_root + \"/bob\"\n",
    "\n",
    "alice_t1 = alice_folder+\"/t1\"\n",
    "alice_t3 = alice_folder+\"/t3\"\n",
    "alice_t4 = alice_folder+\"/t4\"\n",
    "\n",
    "bob_t2 = bob_folder+\"/t2\"\n",
    "bob_t3 = bob_folder+\"/t3\"\n",
    "\n",
    "remotecrypto_folder = \"/home/odin/work/gProj/myforks/qcrypto/remotecrypto\"\n",
    "\n",
    "chopper = remotecrypto_folder+\"/chopper\"\n",
    "\n",
    "def create_data_folders():\n",
    "    \n",
    "    if os.path.exists(processed_data_root):\n",
    "        print (\"conflict with existing data folder.\",\n",
    "                \"please provide a new data root folder name\")\n",
    "        return False\n",
    "    else:\n",
    "        os.mkdir(processed_data_root)\n",
    "        print (\"data root created.\")\n",
    "        \n",
    "    \n",
    "    os.mkdir(alice_folder)\n",
    "    os.mkdir(bob_folder)\n",
    "    os.mkdir(alice_t1)\n",
    "    os.mkdir(alice_t3)\n",
    "    os.mkdir(alice_t4)\n",
    "    \n",
    "    os.mkdir(bob_t2)\n",
    "    os.mkdir(bob_t3)\n",
    "    print (\"data sub directories created.\")\n",
    "    \n",
    "    return True\n",
    "    \n",
    "\n"
   ]
  },
  {
   "cell_type": "code",
   "execution_count": 72,
   "metadata": {},
   "outputs": [
    {
     "name": "stdout",
     "output_type": "stream",
     "text": [
      "data root created.\n",
      "data sub directories created.\n"
     ]
    },
    {
     "data": {
      "text/plain": [
       "True"
      ]
     },
     "execution_count": 72,
     "metadata": {},
     "output_type": "execute_result"
    }
   ],
   "source": [
    "create_data_folders()"
   ]
  },
  {
   "cell_type": "code",
   "execution_count": 73,
   "metadata": {},
   "outputs": [],
   "source": [
    "log_file = open(processed_data_root+\"/log.txt\", \"w\")"
   ]
  },
  {
   "cell_type": "code",
   "execution_count": 74,
   "metadata": {},
   "outputs": [],
   "source": [
    "def log(s):\n",
    "    if printlog is True:\n",
    "        print(str(s))\n",
    "    log_file.write(str(s)+'\\n')\n",
    "    log_file.flush()\n",
    "    "
   ]
  },
  {
   "cell_type": "code",
   "execution_count": 75,
   "metadata": {},
   "outputs": [
    {
     "name": "stdout",
     "output_type": "stream",
     "text": [
      "./TT07Aug_400k_function_gen_3\n"
     ]
    }
   ],
   "source": [
    "log(processed_data_root)"
   ]
  },
  {
   "cell_type": "code",
   "execution_count": 76,
   "metadata": {},
   "outputs": [],
   "source": [
    "#chop_bob_command = remotecrypto_folder+\"/chopper -i \"+ bob_readevent_file+\" -D \"+bob_t2 +\" -d \"+bob_t3 + \" -U\"\n",
    "#log(chop_bob_command)\n"
   ]
  },
  {
   "cell_type": "code",
   "execution_count": 77,
   "metadata": {},
   "outputs": [],
   "source": [
    "#os.system(chop_bob_command)\n",
    "#log(\"chopper on bob readevent files\")\n",
    "#log(\"at :\"+ bob_readevent_file)"
   ]
  },
  {
   "cell_type": "code",
   "execution_count": 78,
   "metadata": {},
   "outputs": [],
   "source": [
    "def run_sub_process(command, timelimit):\n",
    "    log(\"running:\"+ command)\n",
    "    \n",
    "    process = subprocess.Popen([command], shell=True)\n",
    "    try:\n",
    "        log('Running in process:'+str( process.pid))\n",
    "        #print('Running in process', process.pid)\n",
    "        process.wait(timeout=timelimit)\n",
    "    except subprocess.TimeoutExpired:\n",
    "        log('Timed out - killing'+ str(process.pid) )\n",
    "        #print('Timed out - killing', process.pid)\n",
    "        process.kill()\n",
    "    log(\"Done\")\n",
    "    "
   ]
  },
  {
   "cell_type": "code",
   "execution_count": 79,
   "metadata": {},
   "outputs": [],
   "source": [
    "def chop_bob():\n",
    "    log(\"chopper on bob readevent files\")\n",
    "    log(\"at :\"+ bob_readevent_file)\n",
    "    chop_bob_command = remotecrypto_folder+\"/chopper -i \"+ bob_readevent_file+\" -D \"+bob_t2 +\" -d \"+bob_t3 + \" -U\"\n",
    "    run_sub_process(chop_bob_command,process_time_limit)\n",
    "    \n",
    "    "
   ]
  },
  {
   "cell_type": "code",
   "execution_count": 80,
   "metadata": {},
   "outputs": [
    {
     "name": "stdout",
     "output_type": "stream",
     "text": [
      "chopper on bob readevent files\n",
      "at :/home/odin/work/gProj/myforks/timestampdata/LaptopTest2TSCard_7Aug19/400KHzCh1XM1_Bob_10s\n",
      "running:/home/odin/work/gProj/myforks/qcrypto/remotecrypto/chopper -i /home/odin/work/gProj/myforks/timestampdata/LaptopTest2TSCard_7Aug19/400KHzCh1XM1_Bob_10s -D ./TT07Aug_400k_function_gen_3/bob/t2 -d ./TT07Aug_400k_function_gen_3/bob/t3 -U\n",
      "Running in process:28640\n",
      "Timed out - killing28640\n",
      "Done\n"
     ]
    }
   ],
   "source": [
    "chop_bob()"
   ]
  },
  {
   "cell_type": "code",
   "execution_count": 81,
   "metadata": {},
   "outputs": [],
   "source": [
    "def chop2_alice():\n",
    "    log(\"chopper2 on Alice readevent files\")\n",
    "    log(\"at :\"+ alice_readevent_file)\n",
    "    chop2_alice_command = remotecrypto_folder+\"/chopper2 -i \"+ alice_readevent_file+\" -D \"+alice_t1+\" -U \"\n",
    "    log(chop2_alice_command)\n",
    "    #run_sub_process(chop2_alice_command,process_time_limit)\n",
    "    os.system(chop2_alice_command)\n",
    "    #print (chop2_alice_command)"
   ]
  },
  {
   "cell_type": "code",
   "execution_count": 82,
   "metadata": {},
   "outputs": [
    {
     "name": "stdout",
     "output_type": "stream",
     "text": [
      "chopper2 on Alice readevent files\n",
      "at :/home/odin/work/gProj/myforks/timestampdata/LaptopTest2TSCard_7Aug19/400KHzCh1XM1_Alice_10s\n",
      "/home/odin/work/gProj/myforks/qcrypto/remotecrypto/chopper2 -i /home/odin/work/gProj/myforks/timestampdata/LaptopTest2TSCard_7Aug19/400KHzCh1XM1_Alice_10s -D ./TT07Aug_400k_function_gen_3/alice/t1 -U \n"
     ]
    }
   ],
   "source": [
    "chop2_alice()"
   ]
  },
  {
   "cell_type": "code",
   "execution_count": 83,
   "metadata": {},
   "outputs": [],
   "source": [
    "#./pfind -D ./DEMO5/alice/t1 -e 0xaca0a07a -d ./DEMO5/bob/t2 -r 2 -n 10 -V 3\n",
    "\n",
    "def p_find(epoch):\n",
    "    if \"0x\" not in epoch.lower():\n",
    "        xepoch = \"0x\"+str(epoch)\n",
    "    log (\"running pfind\")\n",
    "    pfind_command = remotecrypto_folder+\"/pfind -D \"+alice_t1+\" -e \"\\\n",
    "        + str(xepoch)+ \" -d \" + bob_t2 + \" -r 2 -n 10 -V 3 -q 22\"\n",
    "    log (pfind_command)\n",
    "    os.system(pfind_command)"
   ]
  },
  {
   "cell_type": "code",
   "execution_count": 32,
   "metadata": {},
   "outputs": [],
   "source": [
    "#create_data_folders()"
   ]
  },
  {
   "cell_type": "code",
   "execution_count": 84,
   "metadata": {},
   "outputs": [
    {
     "name": "stdout",
     "output_type": "stream",
     "text": [
      "running pfind\n",
      "/home/odin/work/gProj/myforks/qcrypto/remotecrypto/pfind -D ./TT07Aug_400k_function_gen_3/alice/t1 -e 0xadc4a636 -d ./TT07Aug_400k_function_gen_3/bob/t2 -r 2 -n 10 -V 3 -q 22\n"
     ]
    }
   ],
   "source": [
    "p_find(\"adc4a636\") # aca2a07a"
   ]
  },
  {
   "cell_type": "code",
   "execution_count": 36,
   "metadata": {},
   "outputs": [],
   "source": [
    "def p_find_blurb(epoch):\n",
    "    if \"0x\" not in epoch.lower():\n",
    "        xepoch = \"0x\"+str(epoch)\n",
    "    log (\"running pfind\")\n",
    "    pfindB_command = remotecrypto_folder+\"/pfindblurb -D \"+alice_t1+\" -e \"\\\n",
    "        + str(xepoch)+ \" -d \" + bob_t2 + \" -r 2 -n 10 -V 3 -q 20\"\n",
    "    log (pfindB_command)\n",
    "    os.system(pfindB_command)"
   ]
  },
  {
   "cell_type": "code",
   "execution_count": 37,
   "metadata": {},
   "outputs": [],
   "source": [
    "#p_find_blurb(\"adc4a4dc\")"
   ]
  },
  {
   "cell_type": "code",
   "execution_count": 85,
   "metadata": {},
   "outputs": [],
   "source": [
    "def co_stream(epoch,t_diff):\n",
    "    if \"0x\" not in epoch.lower():\n",
    "        xepoch = \"0x\"+str(epoch)\n",
    "    log (\"running costream\")\n",
    "    costream_command = remotecrypto_folder+\"/costream -D \"+alice_t1 \\\n",
    "        + \" -d \"+ bob_t2 + \" -F \" + alice_t4+\" -f \" + alice_t3 \\\n",
    "        + \" -e \" + str(xepoch) + \" -w 16 -u 40-p 1 -q 10 -t \" + str(t_diff) + \"-T 0 -V 4 -G 3\"\n",
    "    log(costream_command)\n",
    "    os.system(costream_command)\n",
    "    \n",
    "    "
   ]
  },
  {
   "cell_type": "code",
   "execution_count": 86,
   "metadata": {},
   "outputs": [
    {
     "name": "stdout",
     "output_type": "stream",
     "text": [
      "running costream\n",
      "/home/odin/work/gProj/myforks/qcrypto/remotecrypto/costream -D ./TT07Aug_400k_function_gen_3/alice/t1 -d ./TT07Aug_400k_function_gen_3/bob/t2 -F ./TT07Aug_400k_function_gen_3/alice/t4 -f ./TT07Aug_400k_function_gen_3/alice/t3 -e 0xadc4a636 -w 16 -u 40-p 1 -q 10 -t -1965472-T 0 -V 4 -G 3\n"
     ]
    }
   ],
   "source": [
    "co_stream(\"adc4a636\", -1965472)"
   ]
  },
  {
   "cell_type": "code",
   "execution_count": 146,
   "metadata": {},
   "outputs": [],
   "source": [
    "log_file.close()"
   ]
  },
  {
   "cell_type": "code",
   "execution_count": null,
   "metadata": {},
   "outputs": [],
   "source": []
  }
 ],
 "metadata": {
  "kernelspec": {
   "display_name": "Python 3",
   "language": "python",
   "name": "python3"
  },
  "language_info": {
   "codemirror_mode": {
    "name": "ipython",
    "version": 3
   },
   "file_extension": ".py",
   "mimetype": "text/x-python",
   "name": "python",
   "nbconvert_exporter": "python",
   "pygments_lexer": "ipython3",
   "version": "3.5.2"
  }
 },
 "nbformat": 4,
 "nbformat_minor": 2
}
